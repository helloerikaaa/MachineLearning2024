{
 "cells": [
  {
   "cell_type": "markdown",
   "metadata": {},
   "source": [
    "## Ejemplo 1\n",
    "\n",
    "Supongamos que una enfermedad afecta al 1% de la población. Una prueba para detectar esta enfermedad tiene una tasa de falsos positivos del 5% y una tasa de falsos negativos del 1%.\n",
    "- a) Si una persona recibe un resultado positivo en la prueba, ¿cuál es la probabilidad de que realmente tenga la enfermedad?\n",
    "\n",
    "- b) Si una persona recibe un resultado negativo en la prueba, ¿cuál es la probabilidad de que realmente no tenga la enfermedad?"
   ]
  },
  {
   "cell_type": "code",
   "execution_count": null,
   "metadata": {},
   "outputs": [],
   "source": [
    "P_A = 0.01  # Probabilidad a priori de tener la enfermedad\n",
    "P_B_dado_A = 0.99  # Sensibilidad de la prueba\n",
    "P_B_no_dado_A = 0.05  # Falsos positivos\n",
    "\n",
    "# Calculando P(B)\n",
    "P_not_A = 1 - P_A\n",
    "P_B = P_B_dado_A * P_A + P_B_no_dado_A * P_not_A\n",
    "\n",
    "# Aplicando el Teorema de Bayes para calcular P(A|B)\n",
    "P_A_dado_B = (P_B_dado_A * P_A) / P_B\n",
    "resultado1 = round(P_A_dado_B * 100, 2)\n",
    "\n",
    "print(f\"Probabilidad de tener la enfermedad dado un resultado positivo en la prueba: {resultado1}%\")\n",
    "\n",
    "# Calculando P(not A|B) usando la complementariedad de las probabilidades\n",
    "P_no_A_dado_B = 1 - P_A_dado_B\n",
    "resultado2 = round(P_no_A_dado_B * 100, 2)\n",
    "\n",
    "print(f\"Probabilidad de no tener la enfermedad dado un resultado positivo en la prueba: {resultado2}%\")\n"
   ]
  },
  {
   "cell_type": "markdown",
   "metadata": {},
   "source": [
    "## Ejemplo 2: \n",
    "\n",
    "Supongamos que tenemos dos categorías de correos electrónicos: spam y no spam. Sabemos que el 70% de los correos electrónicos son spam. Además, tenemos la siguiente tabla de confusión para un algoritmo de clasificación de correo electrónico:\n",
    "\n",
    "|                   | Clasificado como Spam | Clasificado como No Spam |\n",
    "|-------------------|------------------------|--------------------------|\n",
    "| Realmente Spam    | 90                     | 10                       |\n",
    "| Realmente No Spam | 5                      | 95                       |\n",
    "\n",
    "\n",
    "- a) Si recibimos un correo electrónico clasificado como spam, ¿cuál es la probabilidad de que realmente sea spam?\n",
    "\n",
    "- b) Si recibimos un correo electrónico clasificado como no spam, ¿cuál es la probabilidad de que realmente no sea spam?\n",
    "\n"
   ]
  },
  {
   "cell_type": "code",
   "execution_count": null,
   "metadata": {},
   "outputs": [],
   "source": [
    "# Probabilidades\n",
    "P_spam = 0.70  # Probabilidad a priori de que un correo sea spam\n",
    "P_no_spam = 1 - P_spam  # Probabilidad a priori de que un correo no sea spam\n",
    "\n",
    "# Tabla de confusión\n",
    "verdaderos_positivos = 90\n",
    "falsos_positivos = 10\n",
    "falsos_negativos = 5\n",
    "verdaderos_negativos = 95\n",
    "\n",
    "# a) Probabilidad de que un correo realmente sea spam dado que fue clasificado como spam\n",
    "P_spam_dado_spam = verdaderos_positivos / (verdaderos_positivos + falsos_positivos)\n",
    "resultado1 = round(P_spam_dado_spam * 100, 2)\n",
    "\n",
    "print(f\"Probabilidad de que un correo realmente sea spam dado que fue clasificado como spam: {resultado1}%\")\n",
    "\n",
    "# b) Probabilidad de que un correo realmente no sea spam dado que fue clasificado como no spam\n",
    "P_no_spam_dado_no_spam = verdaderos_negativos / (verdaderos_negativos + falsos_negativos)\n",
    "resultado2 = round(P_no_spam_dado_no_spam * 100, 2)\n",
    "\n",
    "print(f\"Probabilidad de que un correo realmente no sea spam dado que fue clasificado como no spam: {resultado2}%\")\n"
   ]
  },
  {
   "cell_type": "markdown",
   "metadata": {},
   "source": [
    "## 3:\n",
    "\n",
    "Supongamos que una compañía financiera está investigando transacciones sospechosas para detectar fraudes. Se sabe que el 2% de las transacciones son fraudulentas. Además, se ha desarrollado un algoritmo de detección de fraude que tiene una sensibilidad del 95% y una especificidad del 90%.\n",
    "\n",
    "- a) Si una transacción es identificada como fraudulenta por el algoritmo, ¿cuál es la probabilidad de que realmente sea fraudulenta?\n",
    "\n",
    "- b) Si una transacción es identificada como no fraudulenta por el algoritmo, ¿cuál es la probabilidad de que realmente no sea fraudulenta?\n",
    "\n"
   ]
  },
  {
   "cell_type": "code",
   "execution_count": null,
   "metadata": {},
   "outputs": [],
   "source": [
    "# Probabilidades\n",
    "P_fraude = 0.02  # Probabilidad a priori de que una transacción sea fraudulenta\n",
    "P_no_fraude = 1 - P_fraude  # Probabilidad a priori de que una transacción no sea fraudulenta\n",
    "\n",
    "# Sensibilidad y especificidad del algoritmo\n",
    "sensibilidad = 0.95  # Probabilidad de que el algoritmo identifique una transacción fraudulenta correctamente\n",
    "especificidad = 0.90  # Probabilidad de que el algoritmo identifique una transacción no fraudulenta correctamente\n",
    "\n",
    "# a) Probabilidad de que una transacción realmente sea fraudulenta dado que fue identificada como fraudulenta por el algoritmo\n",
    "P_fraude_dado_fraude = (sensibilidad * P_fraude) / ((sensibilidad * P_fraude) + ((1 - especificidad) * P_no_fraude))\n",
    "resultado1 = round(P_fraude_dado_fraude * 100, 2)\n",
    "\n",
    "print(f\"Probabilidad de que una transacción realmente sea fraudulenta dado que fue identificada como fraudulenta por el algoritmo: {resultado1}%\")\n",
    "\n",
    "# b) Probabilidad de que una transacción realmente no sea fraudulenta dado que fue identificada como no fraudulenta por el algoritmo\n",
    "P_no_fraude_dado_no_fraude = (especificidad * P_no_fraude) / (((1 - sensibilidad) * P_fraude) + (especificidad * P_no_fraude))\n",
    "resultado2 = round(P_no_fraude_dado_no_fraude * 100, 2)\n",
    "\n",
    "print(f\"Probabilidad de que una transacción realmente no sea fraudulenta dado que fue identificada como no fraudulenta por el algoritmo: {resultado2}%\")"
   ]
  }
 ],
 "metadata": {
  "language_info": {
   "name": "python"
  }
 },
 "nbformat": 4,
 "nbformat_minor": 2
}
